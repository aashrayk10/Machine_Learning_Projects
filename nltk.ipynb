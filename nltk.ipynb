{
 "cells": [
  {
   "cell_type": "code",
   "execution_count": 1,
   "metadata": {},
   "outputs": [],
   "source": [
    "from nltk.corpus import brown"
   ]
  },
  {
   "cell_type": "code",
   "execution_count": 3,
   "metadata": {},
   "outputs": [
    {
     "name": "stdout",
     "output_type": "stream",
     "text": [
      "['adventure', 'belles_lettres', 'editorial', 'fiction', 'government', 'hobbies', 'humor', 'learned', 'lore', 'mystery', 'news', 'religion', 'reviews', 'romance', 'science_fiction']\n"
     ]
    }
   ],
   "source": [
    "print(brown.categories())"
   ]
  },
  {
   "cell_type": "code",
   "execution_count": 6,
   "metadata": {},
   "outputs": [
    {
     "name": "stdout",
     "output_type": "stream",
     "text": [
      "[['Assembly', 'session', 'brought', 'much', 'good'], ['The', 'General', 'Assembly', ',', 'which', 'adjourns', 'today', ',', 'has', 'performed', 'in', 'an', 'atmosphere', 'of', 'crisis', 'and', 'struggle', 'from', 'the', 'day', 'it', 'convened', '.'], ...]\n"
     ]
    }
   ],
   "source": [
    "data=brown.sents(categories='editorial')[:100]\n",
    "print(data)"
   ]
  },
  {
   "cell_type": "code",
   "execution_count": 7,
   "metadata": {},
   "outputs": [],
   "source": [
    "from nltk.corpus import stopwords\n",
    "sw=set(stopwords.words('english'))"
   ]
  },
  {
   "cell_type": "code",
   "execution_count": 8,
   "metadata": {},
   "outputs": [
    {
     "name": "stdout",
     "output_type": "stream",
     "text": [
      "{'from', 'why', 'own', 'them', 'has', 'out', 'down', 'should', 'they', \"shan't\", 'again', 'her', 'because', \"wouldn't\", 'few', 'no', 'of', \"hasn't\", 'ours', 'didn', 'that', \"mightn't\", 'we', 'ain', 'now', \"won't\", 'yourself', 'such', 't', \"needn't\", 'yours', \"mustn't\", 'm', 'don', 'some', 'have', 'its', \"isn't\", \"wasn't\", 'these', 'aren', 'and', 'on', 'your', \"it's\", 'by', 'll', 'or', 'there', 'if', 'more', 'doesn', 'herself', 'those', 'other', \"weren't\", 'him', 'most', 'did', 'than', 'what', 'their', 'were', 'this', 'during', 'when', 'who', 'against', 'only', 'won', 'where', 'wasn', 'hers', 'd', 'isn', 'having', 'as', 'through', 'whom', 'i', 'my', 'ourselves', 'yourselves', \"you're\", 'do', 'his', \"you've\", 'she', 'so', 'doing', 'had', 've', 'hasn', \"don't\", 'o', 'needn', \"should've\", 'been', 'both', 'are', 'at', 'until', 'into', 'wouldn', 'themselves', \"haven't\", 'our', \"didn't\", 'about', 'am', \"aren't\", \"you'll\", \"hadn't\", 'shouldn', 're', 'in', 'theirs', 'being', \"she's\", 'for', 'which', 'haven', 'under', 'further', 'was', 'over', 'here', 'he', 'a', 'does', 'himself', \"doesn't\", 'itself', 'nor', \"you'd\", 'same', 'y', 'myself', 'to', 'once', 'with', 'before', 'below', 'you', 'up', 'after', 'can', 'the', 's', 'mightn', 'while', 'too', 'weren', 'is', 'each', 'very', 'be', 'an', 'between', 'off', \"couldn't\", 'hadn', \"shouldn't\", 'then', 'above', 'not', 'will', 'it', 'but', 'couldn', 'any', 'me', 'ma', 'how', \"that'll\", 'all', 'shan', 'mustn', 'just'}\n"
     ]
    }
   ],
   "source": [
    "print(sw)"
   ]
  }
 ],
 "metadata": {
  "kernelspec": {
   "display_name": "Python 3",
   "language": "python",
   "name": "python3"
  },
  "language_info": {
   "codemirror_mode": {
    "name": "ipython",
    "version": 3
   },
   "file_extension": ".py",
   "mimetype": "text/x-python",
   "name": "python",
   "nbconvert_exporter": "python",
   "pygments_lexer": "ipython3",
   "version": "3.7.1"
  }
 },
 "nbformat": 4,
 "nbformat_minor": 2
}
